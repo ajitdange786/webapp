{
 "cells": [
  {
   "cell_type": "code",
   "execution_count": 9,
   "id": "c5af7d35",
   "metadata": {
    "scrolled": false
   },
   "outputs": [
    {
     "data": {
      "application/vnd.jupyter.widget-view+json": {
       "model_id": "1ae254f3c30d45d8b78283eb08b99087",
       "version_major": 2,
       "version_minor": 0
      },
      "text/plain": [
       "interactive(children=(Dropdown(description='Districts:', options=('All', 'Agar Malwa', 'Khandwa', 'Burhanpur',…"
      ]
     },
     "metadata": {},
     "output_type": "display_data"
    }
   ],
   "source": [
    "import pandas as pd\n",
    "data=pd.read_csv('C:/Users/Ajit.Dange/Desktop/LSG Dashboard/Lsg Dashboard jan to april20.csv',low_memory=False,nrows = 4000000, error_bad_lines = False)\n",
    "\n",
    "\n",
    "import datetime\n",
    "import numpy as np\n",
    "import seaborn as sns\n",
    "import matplotlib.pyplot as plt  \n",
    "import seaborn as seabornInstance \n",
    "from sklearn.model_selection import train_test_split \n",
    "from sklearn.linear_model import LinearRegression\n",
    "from scipy import stats\n",
    "from scipy.stats import norm\n",
    "import statistics\n",
    "data.dropna(subset=['Target_Date'],inplace=True)\n",
    "data.dropna(subset=['Disposal_Date'],inplace=True)\n",
    "data.dropna(subset=['Target_Date'],inplace=True)\n",
    "data.drop(data.index[data['Samadhan_One'] == 'Y'],inplace=True)\n",
    "data['EP_Trans_Date'] = pd.to_datetime(data['EP_Trans_Date'])\n",
    "data['Target_Date'] = pd.to_datetime(data['Target_Date'])\n",
    "data['DtOfAppCompletion'] = pd.to_datetime(data['DtOfAppCompletion'])\n",
    "data['Lsk_Fwd_Date'] = pd.to_datetime(data['Lsk_Fwd_Date'])\n",
    "data['Reg Date'] = pd.to_datetime(data['Reg Date'])\n",
    "data['Disposal_Date']=pd.to_datetime(data['Disposal_Date'], errors = 'coerce')\n",
    "data['appprocesstime'] = data['Disposal_Date'] - data['Reg Date']\n",
    "data['appprocesstime']=data['appprocesstime']/np.timedelta64(1,'D')\n",
    "data['dvt'] = data['Disposal_Date'] - data['Target_Date']\n",
    "data['dvt']=data['dvt']/np.timedelta64(1,'D')\n",
    "\n",
    "\n",
    "\n",
    "data.reset_index(inplace = True, drop = True)\n",
    "\n",
    "\n",
    "\n",
    "Q1 = np.percentile(data['dvt'], 25) \n",
    "Q3 = np.percentile(data['dvt'], 75)                  \n",
    "IQR = Q3 - Q1 \n",
    "\n",
    "\n",
    "upper = np.where(data['dvt'] >= (Q3+8*IQR))\n",
    "\n",
    "lower = np.where(data['dvt'] <= (Q1-8*IQR))\n",
    "\n",
    "data.drop(upper[0], inplace = True)\n",
    "\n",
    "data.drop(lower[0], inplace = True)\n",
    "\n",
    "from ipywidgets import widgets, interactive\n",
    "from io import StringIO\n",
    "district = widgets.Dropdown(\n",
    "    options=['All'] + list(data['District_Name_E'].unique()),\n",
    "    value='All',\n",
    "    description='Districts:')\n",
    "service = widgets.Dropdown(\n",
    "    options=['All'] + list(data['Service_Name_E'].unique()),\n",
    "    value='All',\n",
    "    description='Services:')\n",
    "\n",
    "\n",
    "\n",
    "def plotit(district,service):\n",
    "    if district== 'All' and service == 'All':\n",
    "        rslt_df=data\n",
    "    elif district== 'All' and service == service:\n",
    "        rslt_df = data.loc[data[\"Service_Name_E\"] == service]\n",
    "    elif district== district and service == 'All':\n",
    "        rslt_df = data.loc[data[\"District_Name_E\"] == district]\n",
    "        \n",
    "    else:\n",
    "        rslt_df = data.loc[(data[\"District_Name_E\"] == district) & (data[\"Service_Name_E\"] == service)]\n",
    "        \n",
    "    \n",
    "    \n",
    "    fig, ax = plt.subplots(figsize=(15, 8))\n",
    "\n",
    "    sns.distplot(rslt_df['dvt'], hist=True, rug=True,kde=True,ax=ax)\n",
    "    ax.set(xlabel='Disposal days', ylabel='Probability function value', title=f'Distribution curve for: {service}')\n",
    "    ax.set_xlim(-10,5)\n",
    "    ax.set_xticks(range(-10,5))\n",
    "    mean=rslt_df['dvt'].mean()\n",
    "    std=rslt_df['dvt'].std()\n",
    "    p=norm.cdf(1, mean, std)\n",
    "    p1=int((1-p)*100)\n",
    "    a1=int(rslt_df['dvt'].count())\n",
    "    m1=int(min(rslt_df['dvt'],default = \"EMPTY\"))\n",
    "    m2=int(rslt_df['dvt'].max())\n",
    "    m3=int(rslt_df['dvt'].mean())\n",
    "    ax.text(2,2,f' Total Applications : {a1}\\n Minimum Disposal time : {m1} days\\n Maximum Disposal time : {m2} days\\n Mean Disposal time : {m3} days\\n %  of applications Exceeding timeline : {p1} %',size=18,\n",
    "          ha=\"right\", multialignment=\"left\",style='italic',\n",
    "         bbox={'facecolor': 'green', 'alpha': 0.5, 'pad': 10})\n",
    "    ax.plot([2], [1], 'o')\n",
    "    fig = plt.figure(figsize = (18,8))\n",
    "    plt.show()\n",
    "    \n",
    "\n",
    "\n",
    "interactive(plotit, district=district,service=service)\n"
   ]
  },
  {
   "cell_type": "code",
   "execution_count": null,
   "id": "b7913e0e",
   "metadata": {},
   "outputs": [],
   "source": []
  }
 ],
 "metadata": {
  "kernelspec": {
   "display_name": "Python 3",
   "language": "python",
   "name": "python3"
  },
  "language_info": {
   "codemirror_mode": {
    "name": "ipython",
    "version": 3
   },
   "file_extension": ".py",
   "mimetype": "text/x-python",
   "name": "python",
   "nbconvert_exporter": "python",
   "pygments_lexer": "ipython3",
   "version": "3.8.8"
  }
 },
 "nbformat": 4,
 "nbformat_minor": 5
}
